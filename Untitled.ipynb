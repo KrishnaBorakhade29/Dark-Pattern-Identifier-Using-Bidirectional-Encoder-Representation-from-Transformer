{
 "cells": [
  {
   "cell_type": "code",
   "execution_count": null,
   "id": "0217b1c3-26d0-4827-9dac-a269eef0f9c2",
   "metadata": {},
   "outputs": [],
   "source": [
    "!pip install flask selenium transformers tensorflow beautifulsoup4 pandas\n"
   ]
  },
  {
   "cell_type": "code",
   "execution_count": null,
   "id": "a06334a1-b74b-48d7-96b0-73c4a535c28a",
   "metadata": {},
   "outputs": [],
   "source": [
    "from flask import Flask, request, jsonify, Response, stream_with_context\n",
    "from selenium import webdriver\n",
    "from selenium.webdriver.chrome.options import Options\n",
    "from selenium.webdriver.common.by import By\n",
    "from selenium.webdriver.support.ui import WebDriverWait\n",
    "from selenium.webdriver.support import expected_conditions as EC\n",
    "from bs4 import BeautifulSoup\n",
    "import json\n",
    "from transformers import BertTokenizer, TFBertForSequenceClassification\n",
    "import numpy as np\n",
    "import pandas as pd\n"
   ]
  },
  {
   "cell_type": "code",
   "execution_count": null,
   "id": "a6a4edd3-664a-4185-bbdc-cbc08795198f",
   "metadata": {},
   "outputs": [],
   "source": [
    "app = Flask(__name__)\n",
    "\n",
    "# Load the fine-tuned BERT model\n",
    "model_path = \"fine_tuned_bert_model\"  # Replace with the path to your model\n",
    "loaded_model_bert = TFBertForSequenceClassification.from_pretrained(model_path)\n",
    "tokenizer = BertTokenizer.from_pretrained('bert-base-uncased')\n",
    "\n",
    "# Original labels\n",
    "original_labels = [\"Forced Action\", \"Misdirection\", \"Not Dark Pattern\", \"Obstruction\", \"Scarcity\", \"Sneaking\",\n",
    "                   \"Social Proof\", \"Urgency\"]\n",
    "\n",
    "@app.route('/predict', methods=['POST'])\n",
    "def predict():\n",
    "    data = request.get_json()\n",
    "    text = data['text']\n",
    "\n",
    "    max_length = 128\n",
    "    new_texts_tokens_bert = tokenizer(text, truncation=True, padding=True, max_length=max_length, return_tensors='tf')\n",
    "    predictions_bert = loaded_model_bert.predict(\n",
    "        {\"input_ids\": new_texts_tokens_bert[\"input_ids\"], \"attention_mask\": new_texts_tokens_bert[\"attention_mask\"]}\n",
    "    )\n",
    "\n",
    "    probabilities_bert = np.exp(predictions_bert.logits) / np.exp(predictions_bert.logits).sum(axis=1, keepdims=True)\n",
    "    predicted_labels_bert = np.argmax(probabilities_bert, axis=1)\n",
    "    predicted_labels_original_bert = [original_labels[label] for label in predicted_labels_bert]\n",
    "\n",
    "    return jsonify({\n",
    "        \"text\": text,\n",
    "        \"predicted_labels\": predicted_labels_original_bert,\n",
    "        \"probabilities\": probabilities_bert.tolist()\n",
    "    })\n"
   ]
  },
  {
   "cell_type": "code",
   "execution_count": null,
   "id": "f3c5d83e-979c-4556-91f8-fd482a8ad833",
   "metadata": {},
   "outputs": [],
   "source": []
  }
 ],
 "metadata": {
  "kernelspec": {
   "display_name": "Python 3 (ipykernel)",
   "language": "python",
   "name": "python3"
  },
  "language_info": {
   "codemirror_mode": {
    "name": "ipython",
    "version": 3
   },
   "file_extension": ".py",
   "mimetype": "text/x-python",
   "name": "python",
   "nbconvert_exporter": "python",
   "pygments_lexer": "ipython3",
   "version": "3.12.3"
  }
 },
 "nbformat": 4,
 "nbformat_minor": 5
}
